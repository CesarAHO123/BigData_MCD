{
  "cells": [
    {
      "cell_type": "code",
      "execution_count": null,
      "metadata": {
        "id": "_mILJa3_NKNT"
      },
      "outputs": [],
      "source": [
        "from pyspark.sql import SparkSession\n",
        "from pyspark.ml.feature import VectorAssembler, StringIndexer\n",
        "from pyspark.ml.regression import LinearRegression, GBTRegressor, RandomForestRegressor, DecisionTreeRegressor\n",
        "from pyspark.ml.evaluation import RegressionEvaluator\n",
        "from pyspark.ml.linalg import Vectors\n",
        "import matplotlib.pyplot as plt\n",
        "from pyspark.sql import functions as F\n",
        "from google.colab import files\n",
        "import shutil"
      ]
    },
    {
      "cell_type": "code",
      "execution_count": null,
      "metadata": {
        "id": "ImD74ISocBCB"
      },
      "outputs": [],
      "source": [
        "# Iniciar una sesión de PySpark\n",
        "spark = SparkSession.builder.appName(\"MortgagePrediction\").getOrCreate()"
      ]
    },
    {
      "cell_type": "code",
      "source": [
        "spark.conf.set(\"spark.sql.legacy.timeParserPolicy\", \"LEGACY\")\n"
      ],
      "metadata": {
        "id": "MYFZKhkURXR8"
      },
      "execution_count": null,
      "outputs": []
    },
    {
      "cell_type": "code",
      "execution_count": null,
      "metadata": {
        "colab": {
          "base_uri": "https://localhost:8080/"
        },
        "id": "s5xx3yCEPO81",
        "outputId": "ea0fc8a1-1684-4d67-907b-ce83304656eb"
      },
      "outputs": [
        {
          "output_type": "stream",
          "name": "stdout",
          "text": [
            "+------+---------+------------+---------------+------+--------------------+--------------------+------+----+-------+-----+----------+-----------+-----------+----------+\n",
            "|SOURCE|FREQUENCY|    SERIESID|       GEOLEVEL| GEOID|             GEONAME|              MARKET|PERIOD|YEAR|QUARTER|MONTH|SUPPRESSED|MORT_NUMBER|DOLLAR_MEAN|VOL_DOLLAR|\n",
            "+------+---------+------------+---------------+------+--------------------+--------------------+------+----+-------+-----+----------+-----------+-----------+----------+\n",
            "|  NMDB|  Monthly| PCT_CASHOUT|Census Division|   DMA|     Middle Atlantic|   Conforming Market|199801|1998|      1|    1|         0|       22.1|       20.2|    8928.4|\n",
            "|  NMDB|  Monthly|PCT_AGE_LT25|Rural/Non-Rural| USARA| United States Rural| Conventional Market|199801|1998|      1|    1|         0|        3.7|        2.4|     177.6|\n",
            "|  NMDB|  Monthly|  PCT_TWOBOR|Census Division|   DMA|     Middle Atlantic|       All Mortgages|199801|1998|      1|    1|         0|       62.3|       68.2|   84977.2|\n",
            "|  NMDB|  Monthly|PCT_AGE_LT25|Rural/Non-Rural|USANRA|United States Non...|Conventional Mark...|199801|1998|      1|    1|         0|        0.4|        0.3|       2.4|\n",
            "|  NMDB|  Monthly|     PCT_ASN|Census Division|  DWNC|  West North Central|        Jumbo Market|199801|1998|      1|    1|         0|       NULL|       NULL|      NULL|\n",
            "+------+---------+------------+---------------+------+--------------------+--------------------+------+----+-------+-----+----------+-----------+-----------+----------+\n",
            "only showing top 5 rows\n",
            "\n"
          ]
        }
      ],
      "source": [
        "# Cargar los datos\n",
        "file_path = \"/content/drive/My Drive/clean_mortgage_data2.csv\"\n",
        "data = spark.read.csv(file_path, header=True, inferSchema=True)\n",
        "\n",
        "data=data.orderBy([\"YEAR\", \"MONTH\"], ascending=[True, True])\n",
        "# Mostrar las primeras filas\n",
        "data.show(5)"
      ]
    },
    {
      "cell_type": "code",
      "source": [
        "data = data.filter(F.col(\"MARKET\").contains(\"Other Conventional Market\"))\n"
      ],
      "metadata": {
        "id": "JkLng2mvaiHp"
      },
      "execution_count": null,
      "outputs": []
    },
    {
      "cell_type": "code",
      "source": [
        "# Realizar el agrupamiento y la agregación\n",
        "data = data.groupBy(\"MONTH\", \"YEAR\", \"QUARTER\").sum()\n",
        "\n"
      ],
      "metadata": {
        "id": "Jve18qABLTq0"
      },
      "execution_count": null,
      "outputs": []
    },
    {
      "cell_type": "code",
      "source": [
        "# Para renombrar las columnas de los resultados de la agregación\n",
        "data = data.withColumnRenamed(\"sum(MORT_NUMBER)\", \"MORT_NUMBER\")\n",
        "data = data.withColumnRenamed(\"sum(DOLLAR_MEAN)\", \"DOLLAR_MEAN\")\n",
        "data = data.withColumnRenamed(\"sum(VOL_DOLLAR)\", \"VOL_DOLLAR\")"
      ],
      "metadata": {
        "id": "frrRACDES6gp"
      },
      "execution_count": null,
      "outputs": []
    },
    {
      "cell_type": "code",
      "source": [
        "# Supongamos que df es tu DataFrame en PySpark\n",
        "data = data.withColumn(\n",
        "    \"TIMESTAMP\",\n",
        "    F.to_date(\n",
        "        F.concat_ws(\"-\", F.col(\"YEAR\"), F.col(\"MONTH\"), F.lit(1)),\n",
        "        \"yyyy-MM-dd\"\n",
        "    )\n",
        ")\n"
      ],
      "metadata": {
        "id": "-_b-F4FdGPce"
      },
      "execution_count": null,
      "outputs": []
    },
    {
      "cell_type": "code",
      "source": [
        "data"
      ],
      "metadata": {
        "colab": {
          "base_uri": "https://localhost:8080/"
        },
        "id": "18knsviINmfD",
        "outputId": "b77e0004-40c7-44f5-c3b8-dfb632a4e934"
      },
      "execution_count": null,
      "outputs": [
        {
          "output_type": "execute_result",
          "data": {
            "text/plain": [
              "DataFrame[MONTH: int, YEAR: int, QUARTER: int, sum(PERIOD): bigint, sum(YEAR): bigint, sum(QUARTER): bigint, sum(MONTH): bigint, sum(SUPPRESSED): bigint, MORT_NUMBER: double, DOLLAR_MEAN: double, VOL_DOLLAR: double, TIMESTAMP: date]"
            ]
          },
          "metadata": {},
          "execution_count": 9
        }
      ]
    },
    {
      "cell_type": "code",
      "source": [
        "data.show(5)"
      ],
      "metadata": {
        "colab": {
          "base_uri": "https://localhost:8080/"
        },
        "id": "N8b_RsYCNGrA",
        "outputId": "91193f2a-57b0-47a8-ab73-7f8afce94fb1"
      },
      "execution_count": null,
      "outputs": [
        {
          "output_type": "stream",
          "name": "stdout",
          "text": [
            "+-----+----+-------+-----------+---------+------------+----------+---------------+------------------+------------------+--------------------+----------+\n",
            "|MONTH|YEAR|QUARTER|sum(PERIOD)|sum(YEAR)|sum(QUARTER)|sum(MONTH)|sum(SUPPRESSED)|       MORT_NUMBER|       DOLLAR_MEAN|          VOL_DOLLAR| TIMESTAMP|\n",
            "+-----+----+-------+-----------+---------+------------+----------+---------------+------------------+------------------+--------------------+----------+\n",
            "|    1|1998|      1|  556245984|  5562432|        2784|      2784|              0|103121.40000000007| 317456.8999999995| 9.992645416000001E8|1998-01-01|\n",
            "|    2|1998|      1|  556248768|  5562432|        2784|      5568|              0|104323.30000000008|370641.30000000005|1.2476062585999997E9|1998-02-01|\n",
            "|    3|1998|      1|  556251552|  5562432|        2784|      8352|              0|105092.79999999986| 452450.6000000013|1.7538765800000055E9|1998-03-01|\n",
            "|    4|1998|      2|  556254336|  5562432|        5568|     11136|              0|104642.40000000005| 439381.0000000008|1.6369086298000038E9|1998-04-01|\n",
            "|    5|1998|      2|  556257120|  5562432|        5568|     13920|              0|104719.50000000016| 435163.9000000002|1.5966773100000017E9|1998-05-01|\n",
            "+-----+----+-------+-----------+---------+------------+----------+---------------+------------------+------------------+--------------------+----------+\n",
            "only showing top 5 rows\n",
            "\n"
          ]
        }
      ]
    },
    {
      "cell_type": "code",
      "source": [
        "# Selección de columnas relevantes\n",
        "columns = [ 'MORT_NUMBER', 'DOLLAR_MEAN','VOL_DOLLAR','TIMESTAMP']\n",
        "data = data.select(*columns)\n"
      ],
      "metadata": {
        "id": "fxWCGWJ0LZui"
      },
      "execution_count": null,
      "outputs": []
    },
    {
      "cell_type": "code",
      "source": [
        "data = data.orderBy(\"TIMESTAMP\")"
      ],
      "metadata": {
        "id": "u1CYuPbnGZYB"
      },
      "execution_count": null,
      "outputs": []
    },
    {
      "cell_type": "code",
      "source": [
        "data.show(5)"
      ],
      "metadata": {
        "colab": {
          "base_uri": "https://localhost:8080/"
        },
        "id": "g8vv1dIwTWTp",
        "outputId": "2684960b-4a63-48ff-b721-7f424da5c0bf"
      },
      "execution_count": null,
      "outputs": [
        {
          "output_type": "stream",
          "name": "stdout",
          "text": [
            "+------------------+------------------+--------------------+----------+\n",
            "|       MORT_NUMBER|       DOLLAR_MEAN|          VOL_DOLLAR| TIMESTAMP|\n",
            "+------------------+------------------+--------------------+----------+\n",
            "|103121.40000000007| 317456.8999999995| 9.992645416000001E8|1998-01-01|\n",
            "|104323.30000000008|370641.30000000005|1.2476062585999997E9|1998-02-01|\n",
            "|105092.79999999986| 452450.6000000013|1.7538765800000055E9|1998-03-01|\n",
            "|104642.40000000005| 439381.0000000008|1.6369086298000038E9|1998-04-01|\n",
            "|104719.50000000016| 435163.9000000002|1.5966773100000017E9|1998-05-01|\n",
            "+------------------+------------------+--------------------+----------+\n",
            "only showing top 5 rows\n",
            "\n"
          ]
        }
      ]
    },
    {
      "cell_type": "code",
      "source": [
        "data.describe().show()"
      ],
      "metadata": {
        "colab": {
          "base_uri": "https://localhost:8080/"
        },
        "id": "rBIv--OFTk90",
        "outputId": "80cc5135-4417-4b46-f61c-e1e99587a4ea"
      },
      "execution_count": null,
      "outputs": [
        {
          "output_type": "stream",
          "name": "stdout",
          "text": [
            "+-------+------------------+------------------+--------------------+\n",
            "|summary|       MORT_NUMBER|       DOLLAR_MEAN|          VOL_DOLLAR|\n",
            "+-------+------------------+------------------+--------------------+\n",
            "|  count|               312|               312|                 312|\n",
            "|   mean|132191.72083333333| 546117.8714743594|1.8466055602839735E9|\n",
            "| stddev|15084.050106990711| 294699.3085584442|1.7664352344736922E9|\n",
            "|    min|103013.50000000013|202347.80000000028| 6.318693759999977E8|\n",
            "|    max|162684.30000000005| 1556480.800000001| 9.683853394399994E9|\n",
            "+-------+------------------+------------------+--------------------+\n",
            "\n"
          ]
        }
      ]
    },
    {
      "cell_type": "code",
      "source": [
        "# Convertir la columna TIMESTAMP en un formato numérico\n",
        "data = data.withColumn(\"TIMESTAMP_numeric\", F.datediff(data[\"TIMESTAMP\"], F.lit(\"1970-01-01\")))"
      ],
      "metadata": {
        "id": "Y3yfGvVpYXZ5"
      },
      "execution_count": null,
      "outputs": []
    },
    {
      "cell_type": "code",
      "source": [
        "# Crear las características usando la columna TIMESTAMP_numeric\n",
        "assembler = VectorAssembler(inputCols=[\"TIMESTAMP_numeric\"], outputCol=\"features\")\n",
        "data = assembler.transform(data)"
      ],
      "metadata": {
        "id": "1ULJJKBXYXXo"
      },
      "execution_count": null,
      "outputs": []
    },
    {
      "cell_type": "code",
      "source": [
        "total_records = data.count()"
      ],
      "metadata": {
        "id": "T0xIkOkMYXUA"
      },
      "execution_count": null,
      "outputs": []
    },
    {
      "cell_type": "code",
      "source": [
        "total_records"
      ],
      "metadata": {
        "colab": {
          "base_uri": "https://localhost:8080/"
        },
        "id": "aKiUU42QKa9U",
        "outputId": "4a71491d-4a80-49e5-f2f6-f1e2da80e770"
      },
      "execution_count": null,
      "outputs": [
        {
          "output_type": "execute_result",
          "data": {
            "text/plain": [
              "312"
            ]
          },
          "metadata": {},
          "execution_count": 18
        }
      ]
    },
    {
      "cell_type": "code",
      "source": [
        "train_data = data.limit(int(total_records * 0.8))  # 80% de los registros\n",
        "test_data = data.subtract(train_data)"
      ],
      "metadata": {
        "id": "U_netw9DYXRs"
      },
      "execution_count": null,
      "outputs": []
    },
    {
      "cell_type": "code",
      "source": [
        "train_data.show()"
      ],
      "metadata": {
        "colab": {
          "base_uri": "https://localhost:8080/"
        },
        "id": "P8ZCGozfKdZU",
        "outputId": "a3a2aeb2-a7d8-45dc-81ff-f43887d678e2"
      },
      "execution_count": null,
      "outputs": [
        {
          "output_type": "stream",
          "name": "stdout",
          "text": [
            "+------------------+------------------+--------------------+----------+-----------------+---------+\n",
            "|       MORT_NUMBER|       DOLLAR_MEAN|          VOL_DOLLAR| TIMESTAMP|TIMESTAMP_numeric| features|\n",
            "+------------------+------------------+--------------------+----------+-----------------+---------+\n",
            "|103121.40000000007| 317456.8999999995| 9.992645416000001E8|1998-01-01|            10227|[10227.0]|\n",
            "|104323.30000000008|370641.30000000005|1.2476062585999997E9|1998-02-01|            10258|[10258.0]|\n",
            "|105092.79999999986| 452450.6000000013|1.7538765800000055E9|1998-03-01|            10286|[10286.0]|\n",
            "|104642.40000000005| 439381.0000000008|1.6369086298000038E9|1998-04-01|            10317|[10317.0]|\n",
            "|104719.50000000016| 435163.9000000002|1.5966773100000017E9|1998-05-01|            10347|[10347.0]|\n",
            "|105209.20000000011| 478007.8999999996| 1.823710642999997E9|1998-06-01|            10378|[10378.0]|\n",
            "|104833.50000000025|456500.20000000065| 1.689913690799999E9|1998-07-01|            10408|[10408.0]|\n",
            "|104813.80000000012| 450547.9000000005|1.6504287537999983E9|1998-08-01|            10439|[10439.0]|\n",
            "|104495.70000000014|433454.60000000044| 1.563868914599998E9|1998-09-01|            10470|[10470.0]|\n",
            "|105236.59999999989| 464732.7000000004|1.7463658176000018E9|1998-10-01|            10500|[10500.0]|\n",
            "|105931.29999999978|471296.39999999985|1.7721319644000015E9|1998-11-01|            10531|[10531.0]|\n",
            "|106527.59999999974|505354.10000000027|1.9596244986000001E9|1998-12-01|            10561|[10561.0]|\n",
            "|          105595.5|  405026.099999999|1.3496282405999997E9|1999-01-01|            10592|[10592.0]|\n",
            "|105253.69999999997|416663.29999999964|1.4248065704000058E9|1999-02-01|            10623|[10623.0]|\n",
            "|105883.59999999967|478852.50000000035| 1.810551081199997E9|1999-03-01|            10651|[10651.0]|\n",
            "|105354.70000000026|451615.59999999957|1.6150822488000004E9|1999-04-01|            10682|[10682.0]|\n",
            "|105270.90000000013|437449.30000000016|1.5332605987999973E9|1999-05-01|            10712|[10712.0]|\n",
            "|105680.69999999995| 481069.6999999998| 1.791465994400001E9|1999-06-01|            10743|[10743.0]|\n",
            "|105084.29999999986|442869.40000000014|1.5716139075999942E9|1999-07-01|            10773|[10773.0]|\n",
            "|104587.39999999994| 438932.9000000015|1.5767093969999983E9|1999-08-01|            10804|[10804.0]|\n",
            "+------------------+------------------+--------------------+----------+-----------------+---------+\n",
            "only showing top 20 rows\n",
            "\n"
          ]
        }
      ]
    },
    {
      "cell_type": "code",
      "source": [
        "test_data.show()"
      ],
      "metadata": {
        "colab": {
          "base_uri": "https://localhost:8080/"
        },
        "id": "q9SqtgvqKfSu",
        "outputId": "d2f24db9-1c6f-4c55-b7d5-a712a17654db"
      },
      "execution_count": null,
      "outputs": [
        {
          "output_type": "stream",
          "name": "stdout",
          "text": [
            "+------------------+------------------+--------------------+----------+-----------------+---------+\n",
            "|       MORT_NUMBER|       DOLLAR_MEAN|          VOL_DOLLAR| TIMESTAMP|TIMESTAMP_numeric| features|\n",
            "+------------------+------------------+--------------------+----------+-----------------+---------+\n",
            "| 142926.6000000004| 420309.0999999987| 8.983399066000016E8|2018-10-01|            17805|[17805.0]|\n",
            "|141155.59999999957|381723.70000000106| 8.426970349999983E8|2018-11-01|            17836|[17836.0]|\n",
            "| 140236.5999999996|357773.89999999857| 8.028151040000001E8|2018-12-01|            17866|[17866.0]|\n",
            "|141017.69999999984|328128.09999999905| 7.452390238000002E8|2019-01-01|            17897|[17897.0]|\n",
            "|142895.00000000026| 334656.0999999996| 7.569825156000009E8|2019-02-01|            17928|[17928.0]|\n",
            "| 143311.5999999998| 388671.5999999988| 8.367293964000016E8|2019-03-01|            17956|[17956.0]|\n",
            "|144650.99999999994|460558.39999999816| 9.620435490000011E8|2019-04-01|            17987|[17987.0]|\n",
            "|147860.19999999992| 545081.9999999992|1.1216863254000034E9|2019-05-01|            18017|[18017.0]|\n",
            "|147898.89999999982|522096.19999999925|1.0779710194000008E9|2019-06-01|            18048|[18048.0]|\n",
            "|147097.90000000002| 554839.0000000001|1.1500721020000038E9|2019-07-01|            18078|[18078.0]|\n",
            "|146310.99999999997| 559816.7999999969|1.1642256900000021E9|2019-08-01|            18109|[18109.0]|\n",
            "| 147872.9999999996| 564910.6999999981|1.1678229664000006E9|2019-09-01|            18140|[18140.0]|\n",
            "|147314.69999999975| 626109.2999999984|1.3424605991999984E9|2019-10-01|            18170|[18170.0]|\n",
            "|          147983.3| 577255.3999999997|1.2082876843999996E9|2019-11-01|            18201|[18201.0]|\n",
            "|150160.89999999985| 597364.3000000007| 1.224783805800002E9|2019-12-01|            18231|[18231.0]|\n",
            "|148565.99999999983| 504798.7999999989|1.0200482060000008E9|2020-01-01|            18262|[18262.0]|\n",
            "| 148701.0999999998|470553.49999999884| 9.576295021999999E8|2020-02-01|            18293|[18293.0]|\n",
            "| 150355.5000000006| 531555.2999999976|1.0748605222000017E9|2020-03-01|            18322|[18322.0]|\n",
            "|150768.00000000023| 561237.8999999992|        1.15940953E9|2020-04-01|            18353|[18353.0]|\n",
            "|151203.30000000016|  570990.499999998|1.1946801485999994E9|2020-05-01|            18383|[18383.0]|\n",
            "+------------------+------------------+--------------------+----------+-----------------+---------+\n",
            "only showing top 20 rows\n",
            "\n"
          ]
        }
      ]
    },
    {
      "cell_type": "code",
      "source": [
        "# Crear un modelo de regresión lineal para predecir DOLLAR_MEAN\n",
        "lr = LinearRegression(featuresCol=\"features\", labelCol=\"DOLLAR_MEAN\")"
      ],
      "metadata": {
        "id": "o3Bw7HuwYXPh"
      },
      "execution_count": null,
      "outputs": []
    },
    {
      "cell_type": "code",
      "source": [
        "# Entrenar el modelo\n",
        "lr_model = lr.fit(train_data)\n",
        "\n",
        "# Realizar predicciones sobre el conjunto de prueba\n",
        "predictions = lr_model.transform(test_data)"
      ],
      "metadata": {
        "id": "0js2ETe5YXM7"
      },
      "execution_count": null,
      "outputs": []
    },
    {
      "cell_type": "code",
      "source": [
        "# Evaluar el modelo usando RMSE (Root Mean Squared Error)\n",
        "evaluator = RegressionEvaluator(labelCol=\"DOLLAR_MEAN\", predictionCol=\"prediction\", metricName=\"rmse\")\n",
        "rmse = evaluator.evaluate(predictions)\n",
        "print(f\"RMSE: {rmse}\")"
      ],
      "metadata": {
        "colab": {
          "base_uri": "https://localhost:8080/"
        },
        "id": "Idf5FJjQYXFy",
        "outputId": "3d9dc507-7a34-4f1a-c572-d68e1c49cfc3"
      },
      "execution_count": null,
      "outputs": [
        {
          "output_type": "stream",
          "name": "stdout",
          "text": [
            "RMSE: 286828.4259983004\n"
          ]
        }
      ]
    },
    {
      "cell_type": "code",
      "source": [
        "# Obtener las predicciones y los valores reales para compararlos\n",
        "predicted_values = predictions.select(\"prediction\").rdd.flatMap(lambda x: x).collect()\n",
        "real_values = predictions.select(\"DOLLAR_MEAN\").rdd.flatMap(lambda x: x).collect()\n"
      ],
      "metadata": {
        "id": "oijpA_QaYXC6"
      },
      "execution_count": null,
      "outputs": []
    },
    {
      "cell_type": "code",
      "source": [
        "real_values"
      ],
      "metadata": {
        "colab": {
          "base_uri": "https://localhost:8080/"
        },
        "id": "hTUw0hhZZ9hN",
        "outputId": "80797882-457b-4699-9b42-45919ed6bd82"
      },
      "execution_count": null,
      "outputs": [
        {
          "output_type": "execute_result",
          "data": {
            "text/plain": [
              "[420309.0999999987,\n",
              " 381723.70000000106,\n",
              " 357773.89999999857,\n",
              " 328128.09999999905,\n",
              " 334656.0999999996,\n",
              " 388671.5999999988,\n",
              " 460558.39999999816,\n",
              " 545081.9999999992,\n",
              " 522096.19999999925,\n",
              " 554839.0000000001,\n",
              " 559816.7999999969,\n",
              " 564910.6999999981,\n",
              " 626109.2999999984,\n",
              " 577255.3999999997,\n",
              " 597364.3000000007,\n",
              " 504798.7999999989,\n",
              " 470553.49999999884,\n",
              " 531555.2999999976,\n",
              " 561237.8999999992,\n",
              " 570990.499999998,\n",
              " 524054.8000000007,\n",
              " 549032.7999999981,\n",
              " 559356.2999999984,\n",
              " 499093.99999999854,\n",
              " 600850.2999999986,\n",
              " 558537.199999998,\n",
              " 582712.8999999969,\n",
              " 532498.1000000011,\n",
              " 610106.8999999987,\n",
              " 794155.5999999964,\n",
              " 798929.299999997,\n",
              " 778150.4999999986,\n",
              " 816199.2999999961,\n",
              " 766999.7999999982,\n",
              " 785053.6999999973,\n",
              " 754727.399999997,\n",
              " 803383.0999999975,\n",
              " 782216.7999999999,\n",
              " 802331.7999999977,\n",
              " 629100.8999999978,\n",
              " 630702.9999999994,\n",
              " 769459.2000000001,\n",
              " 741451.2999999976,\n",
              " 697970.100000001,\n",
              " 695395.3999999986,\n",
              " 570837.7999999989,\n",
              " 548099.8999999989,\n",
              " 476796.8999999999,\n",
              " 441426.2000000002,\n",
              " 384058.09999999823,\n",
              " 360930.8999999986,\n",
              " 306192.99999999965,\n",
              " 276697.5999999998,\n",
              " 373991.7999999999,\n",
              " 363138.9999999995,\n",
              " 406328.39999999886,\n",
              " 427905.9000000001,\n",
              " 369232.7999999989,\n",
              " 391402.7999999991,\n",
              " 343631.3000000004,\n",
              " 336281.199999999,\n",
              " 309979.0999999988,\n",
              " 296635.0]"
            ]
          },
          "metadata": {},
          "execution_count": 26
        }
      ]
    },
    {
      "cell_type": "code",
      "source": [
        "predicted_values"
      ],
      "metadata": {
        "colab": {
          "base_uri": "https://localhost:8080/"
        },
        "id": "bSNfFYSqZ6I1",
        "outputId": "615132ea-c194-4824-83c1-779b0d2813af"
      },
      "execution_count": null,
      "outputs": [
        {
          "output_type": "execute_result",
          "data": {
            "text/plain": [
              "[346619.64205796435,\n",
              " 344977.7220471398,\n",
              " 343388.7671979547,\n",
              " 341746.84718713013,\n",
              " 340104.92717630544,\n",
              " 338621.90265039937,\n",
              " 336979.9826395748,\n",
              " 335391.0277903897,\n",
              " 333749.10777956515,\n",
              " 332160.15293037996,\n",
              " 330518.2329195554,\n",
              " 328876.3129087308,\n",
              " 327287.35805954575,\n",
              " 325645.4380487212,\n",
              " 324056.483199536,\n",
              " 322414.5631887114,\n",
              " 320772.64317788684,\n",
              " 319236.65349034127,\n",
              " 317594.7334795167,\n",
              " 316005.7786303315,\n",
              " 314363.85861950694,\n",
              " 312774.90377032186,\n",
              " 311132.9837594973,\n",
              " 309491.0637486726,\n",
              " 307902.10889948753,\n",
              " 306260.18888866296,\n",
              " 304671.2340394779,\n",
              " 303029.3140286533,\n",
              " 301387.3940178286,\n",
              " 299904.36949192255,\n",
              " 298262.449481098,\n",
              " 296673.4946319129,\n",
              " 295031.57462108834,\n",
              " 293442.61977190315,\n",
              " 291800.6997610786,\n",
              " 290158.779750254,\n",
              " 288569.82490106893,\n",
              " 286927.90489024424,\n",
              " 285338.9500410592,\n",
              " 283697.0300302346,\n",
              " 282055.11001941,\n",
              " 280572.08549350395,\n",
              " 278930.16548267927,\n",
              " 277341.2106334942,\n",
              " 275699.2906226696,\n",
              " 274110.33577348455,\n",
              " 272468.41576266,\n",
              " 270826.4957518353,\n",
              " 269237.5409026502,\n",
              " 267595.62089182565,\n",
              " 266006.6660426406,\n",
              " 264364.7460318159,\n",
              " 262722.8260209913,\n",
              " 261239.80149508524,\n",
              " 259597.88148426067,\n",
              " 258008.9266350756,\n",
              " 256367.0066242509,\n",
              " 254778.05177506583,\n",
              " 253136.13176424126,\n",
              " 251494.2117534167,\n",
              " 249905.25690423162,\n",
              " 248263.33689340693,\n",
              " 246674.38204422186]"
            ]
          },
          "metadata": {},
          "execution_count": 27
        }
      ]
    },
    {
      "cell_type": "code",
      "source": [
        "lr_model.save(\"/content/lr_model5\")"
      ],
      "metadata": {
        "id": "IU7AeKQtkpLr"
      },
      "execution_count": null,
      "outputs": []
    },
    {
      "cell_type": "code",
      "source": [
        "files.download(\"/content/lr_model.zip\")"
      ],
      "metadata": {
        "id": "J1Hk6WPzz7fs",
        "outputId": "49ccc88a-f515-4c33-e926-231cacec064b",
        "colab": {
          "base_uri": "https://localhost:8080/",
          "height": 17
        }
      },
      "execution_count": null,
      "outputs": [
        {
          "output_type": "display_data",
          "data": {
            "text/plain": [
              "<IPython.core.display.Javascript object>"
            ],
            "application/javascript": [
              "\n",
              "    async function download(id, filename, size) {\n",
              "      if (!google.colab.kernel.accessAllowed) {\n",
              "        return;\n",
              "      }\n",
              "      const div = document.createElement('div');\n",
              "      const label = document.createElement('label');\n",
              "      label.textContent = `Downloading \"${filename}\": `;\n",
              "      div.appendChild(label);\n",
              "      const progress = document.createElement('progress');\n",
              "      progress.max = size;\n",
              "      div.appendChild(progress);\n",
              "      document.body.appendChild(div);\n",
              "\n",
              "      const buffers = [];\n",
              "      let downloaded = 0;\n",
              "\n",
              "      const channel = await google.colab.kernel.comms.open(id);\n",
              "      // Send a message to notify the kernel that we're ready.\n",
              "      channel.send({})\n",
              "\n",
              "      for await (const message of channel.messages) {\n",
              "        // Send a message to notify the kernel that we're ready.\n",
              "        channel.send({})\n",
              "        if (message.buffers) {\n",
              "          for (const buffer of message.buffers) {\n",
              "            buffers.push(buffer);\n",
              "            downloaded += buffer.byteLength;\n",
              "            progress.value = downloaded;\n",
              "          }\n",
              "        }\n",
              "      }\n",
              "      const blob = new Blob(buffers, {type: 'application/binary'});\n",
              "      const a = document.createElement('a');\n",
              "      a.href = window.URL.createObjectURL(blob);\n",
              "      a.download = filename;\n",
              "      div.appendChild(a);\n",
              "      a.click();\n",
              "      div.remove();\n",
              "    }\n",
              "  "
            ]
          },
          "metadata": {}
        },
        {
          "output_type": "display_data",
          "data": {
            "text/plain": [
              "<IPython.core.display.Javascript object>"
            ],
            "application/javascript": [
              "download(\"download_a2f98116-fdaa-4cb2-9567-380c9f057869\", \"lr_model.zip\", 2645)"
            ]
          },
          "metadata": {}
        }
      ]
    }
  ],
  "metadata": {
    "colab": {
      "provenance": []
    },
    "kernelspec": {
      "display_name": "Python 3",
      "name": "python3"
    },
    "language_info": {
      "name": "python"
    }
  },
  "nbformat": 4,
  "nbformat_minor": 0
}