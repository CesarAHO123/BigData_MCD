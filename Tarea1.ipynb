{
 "cells": [
  {
   "cell_type": "markdown",
   "id": "4b6c337f-4882-40cc-8e37-3756bd503bb1",
   "metadata": {},
   "source": [
    "### Tarea 1 (10 puntos). Creación y operaciones básicas con PySpark\n",
    "\n",
    "- Instalar en un entorno local o ejecutar Spark en algún servidor en línea (como Google Colab)\n",
    "- Elegir un conjunto de datos para trabajar durante el tetramestre, definirlo y explicar por qué se elige\n",
    "- Cargar el conjunto de datos mediante PySpark\n",
    "- Usar PySpark para filtrar datos, generar estadísticas descriptivas básicas y realizar algunas operaciones aritméticas entre registros y columnas\n",
    "- Crear un repositorio público para el curso y publicar en un cuaderno esta primera tarea"
   ]
  },
  {
   "cell_type": "code",
   "execution_count": 1,
   "id": "5e20f6ac-9382-49a6-bf67-0cf65c55f690",
   "metadata": {},
   "outputs": [],
   "source": [
    "import os\n",
    "import sys\n",
    "\n",
    "import findspark\n",
    "findspark.init()\n",
    "findspark.find()\n",
    "\n",
    "import pyspark\n",
    "\n",
    "from pyspark.sql import DataFrame, SparkSession\n",
    "from typing import List\n",
    "import pyspark.sql.types as T\n",
    "import pyspark.sql.functions as F\n",
    "\n",
    "spark= SparkSession.builder.appName(\"Mi primera tarea\").getOrCreate()"
   ]
  },
  {
   "cell_type": "code",
   "execution_count": 2,
   "id": "50dcecb5-1c63-4f89-82fe-525bb2dcbacb",
   "metadata": {},
   "outputs": [
    {
     "name": "stdout",
     "output_type": "stream",
     "text": [
      "+------+---------+--------+--------+-----+-------------+--------------------+------+----+-------+-----+----------+------+--------+\n",
      "|SOURCE|FREQUENCY|SERIESID|GEOLEVEL|GEOID|      GEONAME|              MARKET|PERIOD|YEAR|QUARTER|MONTH|SUPPRESSED|VALUE1|  VALUE2|\n",
      "+------+---------+--------+--------+-----+-------------+--------------------+------+----+-------+-----+----------+------+--------+\n",
      "|  NMDB|Quarterly|TOT_ORIG|National|  USA|United States|       All Mortgages|1998Q1|1998|      1|    3|         0|2544.0|277368.0|\n",
      "|  NMDB|Quarterly|TOT_ORIG|National|  USA|United States|All Mortgages (Ho...|1998Q1|1998|      1|    3|         0|1044.0|108582.0|\n",
      "|  NMDB|Quarterly|TOT_ORIG|National|  USA|United States|All Mortgages (Re...|1998Q1|1998|      1|    3|         0|1499.0|168786.0|\n",
      "|  NMDB|Quarterly|TOT_ORIG|National|  USA|United States|       All Mortgages|1998Q2|1998|      2|    6|         0|2910.0|319970.0|\n",
      "|  NMDB|Quarterly|TOT_ORIG|National|  USA|United States|All Mortgages (Ho...|1998Q2|1998|      2|    6|         0|1482.0|157679.0|\n",
      "+------+---------+--------+--------+-----+-------------+--------------------+------+----+-------+-----+----------+------+--------+\n",
      "only showing top 5 rows\n",
      "\n"
     ]
    }
   ],
   "source": [
    "df = spark.read.csv(\"mortgage_data.csv\", header=True, inferSchema=True)\n",
    "\n",
    "# Mostrar las primeras filas del DataFrame\n",
    "df.show(5)"
   ]
  },
  {
   "cell_type": "markdown",
   "id": "4edb1804-95b6-4081-b86e-355919a0518b",
   "metadata": {},
   "source": [
    "# Conjunto de Datos: National Mortgage Database (NMDB®)\n",
    "\n",
    "## Descripción del Conjunto de Datos\n",
    "El **National Mortgage Database (NMDB®)** es una muestra representativa a nivel nacional del 5% de las hipotecas residenciales en los Estados Unidos. Este conjunto de datos se publica para cumplir con los requisitos establecidos por la sección 1324(c) de la Federal Housing Enterprises Financial Safety and Soundness Act de 1992, que fue enmendada por la Housing and Economic Recovery Act de 2008. La base de datos recopila características detalladas de las hipotecas, tanto de las empresas como de no empresas, y busca hacer esta información accesible al público protegiendo la privacidad de los prestatarios.\n",
    "\n",
    "## Motivo para Elegir Este Conjunto de Datos\n",
    "\n",
    "### 1. Relevancia en la Industria Financiera\n",
    "El NMDB proporciona una visión integral del mercado hipotecario en los EE. UU., lo cual es fundamental para entender las dinámicas financieras y económicas. Este tipo de datos es extremadamente útil para realizar análisis de riesgos, comportamiento del consumidor y predicciones de mercado.\n",
    "\n",
    "### 2. Complejidad y Variedad de Datos\n",
    "La base de datos contiene múltiples variables que van desde características geográficas y temporales hasta detalles específicos de las hipotecas, como valores y tipos de préstamo. Esta variedad permite realizar análisis multivariados y aplicar técnicas avanzadas de Big Data y Machine Learning.\n",
    "\n",
    "### 3. Volumen de Datos\n",
    "Al tratarse de una muestra del 5% de todas las hipotecas residenciales, el volumen es significativo, con millones de registros. Este tamaño es ideal para practicar y aplicar técnicas de procesamiento distribuido y análisis masivo de datos, que son componentes clave en Big Data.\n",
    "\n",
    "### 4. Impacto Social y Económico\n",
    "El análisis de este conjunto de datos puede contribuir a una mejor comprensión del mercado hipotecario, lo que tiene un impacto directo en la economía de los hogares y la estabilidad financiera de la nación.\n",
    "\n",
    "### 5. Beneficio Personal y Profesional\n",
    "Trabajar con este conjunto de datos tiene un valor añadido personal, ya que estoy empleado en una empresa que se dedica a facilitar hipotecas. Analizar y entender los patrones y tendencias del mercado hipotecario a través del NMDB me permitirá aplicar este conocimiento directamente en mi trabajo, mejorando la toma de decisiones y el desarrollo de productos en mi entorno profesional.\n",
    "\n",
    "---\n",
    "\n",
    "En resumen, el NMDB es un conjunto de datos robusto y relevante para aplicar técnicas de Big Data y análisis avanzado, y puede proporcionar un excelente marco para el desarrollo de proyectos complejos a lo largo del tetramestre.\n"
   ]
  },
  {
   "cell_type": "markdown",
   "id": "02467a70-4226-4dcb-8ff2-291ad6820ec7",
   "metadata": {},
   "source": [
    "# Definición del Conjunto de Datos: NMDB® Aggregate Statistics\n",
    "\n",
    "El conjunto de datos **NMDB® Aggregate Statistics** ofrece una visión general de las estadísticas hipotecarias agregadas en los Estados Unidos. A continuación, se presenta la descripción detallada de cada campo:\n",
    "\n",
    "| **Campo**       | **Descripción**                                                                                       | **Tipo**     | **Ejemplos/Valores**                                            |\n",
    "|-----------------|-------------------------------------------------------------------------------------------------------|-------------|----------------------------------------------------------------|\n",
    "| **SOURCE**      | Fuente de los datos.                                                                                  | String      | `NMDB`                                                         |\n",
    "| **FREQUENCY**   | Frecuencia de la serie de datos.                                                                      | String      | `Annual`, `Quarterly`, `Monthly`                               |\n",
    "| **SERIESID**    | Identificador del campo estadístico.                                                                  | String      | `New Residential Mortgages`, `Outstanding Mortgages`           |\n",
    "| **GEOLEVEL**    | Nivel de geografía.                                                                                   | String      | `National`, `State`, `Metro Area`                              |\n",
    "| **GEOID**       | Identificador geográfico.                                                                             | String      | `USA`, `FL`, `23420`                                           |\n",
    "| **GEONAME**     | Nombre de la geografía.                                                                               | String      | `United States`, `Florida`, `Fresno, CA`                       |\n",
    "| **MARKET**      | Mercado o submercado hipotecario.                                                                     | String      | `All Mortgages`, `Enterprise Acquisitions`, `Government`       |\n",
    "| **PERIOD**      | Período de tiempo, incluyendo año, trimestre o mes.                                                   | String      | `2009`, `2009Q2`, `200906`                                     |\n",
    "| **YEAR**        | Año del dato.                                                                                         | Numeric     | `2009`                                                         |\n",
    "| **QUARTER**     | Trimestre del año.                                                                                    | Numeric     | `1`, `2`, `3`, `4`                                             |\n",
    "| **MONTH**       | Mes del dato. Incluye ceros a la izquierda en caso necesario.                                         | Numeric     | `01`, `12`                                                     |\n",
    "| **SUPPRESSED**  | Indicador de supresión de valor.                                                                      | Numeric     | `1` = Suprimido, `0` = No suprimido                            |\n",
    "| **VALUE1**      | Valores ponderados por el número de préstamos.                                                        | Numeric     | Estadísticas/Agregados ponderados por el número de hipotecas   |\n",
    "| **VALUE2**      | Valores ponderados por el volumen en dólares del préstamo.                                            | Numeric     | Estadísticas/Agregados ponderados por el valor del monto       |\n",
    "\n",
    "## Ejemplos de Uso\n",
    "\n",
    "- **SOURCE**: Indica el origen de los datos, siempre es \"NMDB\".\n",
    "- **FREQUENCY**: Permite analizar los datos de manera anual, trimestral o mensual, lo cual es útil para realizar análisis temporales.\n",
    "- **SERIESID**: Identifica el tipo de estadística que se está analizando, como hipotecas nuevas o el saldo pendiente de hipotecas.\n",
    "- **GEOLEVEL** y **GEOID**: Determinan el nivel y la ubicación geográfica de los datos, permitiendo realizar análisis específicos por región, estado o área metropolitana.\n",
    "- **MARKET**: Especifica el mercado hipotecario, como todos los préstamos hipotecarios o adquisiciones de empresas.\n",
    "- **PERIOD**, **YEAR**, **QUARTER**, **MONTH**: Definen el marco temporal para el análisis de los datos.\n",
    "- **SUPPRESSED**: Indica si los valores han sido suprimidos por razones de privacidad.\n",
    "- **VALUE1** y **VALUE2**: Proporcionan datos agregados ponderados, ya sea por número de préstamos o por volumen de préstamo, lo cual es útil para análisis cuantitativos. \n",
    "\n",
    "Este conjunto de datos ofrece una base sólida para el análisis del mercado hipotecario en diferentes niveles geográficos y temporales, facilitando estudios de tendencias, comparaciones regionales y segmentación de mercado.\n"
   ]
  },
  {
   "cell_type": "code",
   "execution_count": 3,
   "id": "62b788e4-95fa-48c7-9085-380c7074e1eb",
   "metadata": {},
   "outputs": [
    {
     "name": "stdout",
     "output_type": "stream",
     "text": [
      "+------+---------+--------+--------+-----+-------------+--------------------+------+----+-------+-----+----------+------+--------+\n",
      "|SOURCE|FREQUENCY|SERIESID|GEOLEVEL|GEOID|      GEONAME|              MARKET|PERIOD|YEAR|QUARTER|MONTH|SUPPRESSED|VALUE1|  VALUE2|\n",
      "+------+---------+--------+--------+-----+-------------+--------------------+------+----+-------+-----+----------+------+--------+\n",
      "|  NMDB|Quarterly|TOT_ORIG|National|  USA|United States|       All Mortgages|2000Q1|2000|      1|    3|         0|1630.0|184966.0|\n",
      "|  NMDB|Quarterly|TOT_ORIG|National|  USA|United States|All Mortgages (Ho...|2000Q1|2000|      1|    3|         0|1038.0|126198.0|\n",
      "|  NMDB|Quarterly|TOT_ORIG|National|  USA|United States|All Mortgages (Re...|2000Q1|2000|      1|    3|         0| 592.0| 58768.0|\n",
      "|  NMDB|Quarterly|TOT_ORIG|National|  USA|United States|       All Mortgages|2000Q2|2000|      2|    6|         0|1945.0|230406.0|\n",
      "|  NMDB|Quarterly|TOT_ORIG|National|  USA|United States|All Mortgages (Ho...|2000Q2|2000|      2|    6|         0|1356.0|165626.0|\n",
      "|  NMDB|Quarterly|TOT_ORIG|National|  USA|United States|All Mortgages (Re...|2000Q2|2000|      2|    6|         0| 589.0| 64779.0|\n",
      "|  NMDB|Quarterly|TOT_ORIG|National|  USA|United States|       All Mortgages|2000Q3|2000|      3|    9|         0|1900.0|231475.0|\n",
      "|  NMDB|Quarterly|TOT_ORIG|National|  USA|United States|All Mortgages (Ho...|2000Q3|2000|      3|    9|         0|1314.0|164342.0|\n",
      "|  NMDB|Quarterly|TOT_ORIG|National|  USA|United States|All Mortgages (Re...|2000Q3|2000|      3|    9|         0| 586.0| 67133.0|\n",
      "|  NMDB|Quarterly|TOT_ORIG|National|  USA|United States|       All Mortgages|2000Q4|2000|      4|   12|         0|1848.0|232306.0|\n",
      "+------+---------+--------+--------+-----+-------------+--------------------+------+----+-------+-----+----------+------+--------+\n",
      "only showing top 10 rows\n",
      "\n"
     ]
    }
   ],
   "source": [
    "# Filtrar registros donde el año es 2000\n",
    "df_filtered = df.filter(df.YEAR == 2000)\n",
    "\n",
    "# Mostrar el resultado\n",
    "df_filtered.show(10)\n"
   ]
  },
  {
   "cell_type": "code",
   "execution_count": 4,
   "id": "9b3fd103-a428-43be-b518-13c4fc282444",
   "metadata": {},
   "outputs": [
    {
     "name": "stdout",
     "output_type": "stream",
     "text": [
      "+-------+-------+-----------------+------------------+-----------------+\n",
      "|summary| PERIOD|             YEAR|            VALUE1|           VALUE2|\n",
      "+-------+-------+-----------------+------------------+-----------------+\n",
      "|  count|2007264|          2007264|           1910496|          1841280|\n",
      "|   mean|   NULL|2010.378640776699| 53.38525728397144|776.8076042753173|\n",
      "| stddev|   NULL|7.434004686891715|132.24802817927338| 11177.2213759521|\n",
      "|    min| 1998Q1|             1998|               0.0|              0.0|\n",
      "|    max| 2023Q3|             2023|            6161.0|        1159331.0|\n",
      "+-------+-------+-----------------+------------------+-----------------+\n",
      "\n"
     ]
    }
   ],
   "source": [
    "\n",
    "# Estadisticas descriptivas\n",
    "df.select(\"PERIOD\",\"YEAR\",\"VALUE1\", \"VALUE2\").describe().show()\n"
   ]
  },
  {
   "cell_type": "code",
   "execution_count": 5,
   "id": "69ca6bc9-e384-42a2-8a26-3788c8ee2f5b",
   "metadata": {},
   "outputs": [
    {
     "name": "stdout",
     "output_type": "stream",
     "text": [
      "+------+--------+------------------+\n",
      "|VALUE1|  VALUE2|Average_Loan_Value|\n",
      "+------+--------+------------------+\n",
      "|2544.0|277368.0|109.02830188679245|\n",
      "|1044.0|108582.0|104.00574712643679|\n",
      "|1499.0|168786.0|112.59906604402936|\n",
      "|2910.0|319970.0| 109.9553264604811|\n",
      "|1482.0|157679.0|106.39608636977059|\n",
      "|1427.0|162291.0|113.72880168185003|\n",
      "|2817.0|317604.0| 112.7454739084132|\n",
      "|1467.0|157723.0|107.51397409679618|\n",
      "|1349.0|159881.0|118.51816160118607|\n",
      "|3414.0|392280.0|114.90333919156414|\n",
      "+------+--------+------------------+\n",
      "only showing top 10 rows\n",
      "\n"
     ]
    }
   ],
   "source": [
    "from pyspark.sql.functions import col,mean\n",
    "\n",
    "# Calcular el valor promedio de los préstamos (volumen en dólares / cantidad de hipotecas)\n",
    "df_with_avg_loan = df.withColumn(\"Average_Loan_Value\", col(\"VALUE2\") / col(\"VALUE1\"))\n",
    "\n",
    "# Mostrar las primeras filas con la nueva columna\n",
    "df_with_avg_loan.select(\"VALUE1\", \"VALUE2\", \"Average_Loan_Value\").show(10)\n",
    "\n"
   ]
  },
  {
   "cell_type": "code",
   "execution_count": 6,
   "id": "69d7fe7d-b19c-46ae-ae81-74af6073e3c1",
   "metadata": {},
   "outputs": [
    {
     "name": "stdout",
     "output_type": "stream",
     "text": [
      "+--------------------+------------------+------------------+\n",
      "|              MARKET|        Avg_VALUE1|        Avg_VALUE2|\n",
      "+--------------------+------------------+------------------+\n",
      "|        Jumbo Market| 72.77505778604088| 371.7913516684048|\n",
      "| Conventional Market|55.846408471936144|1751.1087721584993|\n",
      "|Jumbo Market (Ref...| 73.97360811014525| 223.9177320125127|\n",
      "|Conforming Market...| 51.96935581126575|1015.2194382168951|\n",
      "|   Conforming Market|55.420640922566704|1735.9718287278415|\n",
      "|Enterprise Acquis...| 50.97929375408289| 693.9394590719459|\n",
      "|       All Mortgages| 56.92266720265309|2067.2581725755895|\n",
      "|Other Conforming ...| 45.15587030802466| 190.2432755474448|\n",
      "|All Mortgages (Ho...| 50.96085121350683|  908.667456986449|\n",
      "|Conventional Conf...| 51.55158409125166| 885.6663347236697|\n",
      "|All Mortgages (Re...| 53.25553741018047|1198.6087904066721|\n",
      "|Conforming Market...|  49.6940430129139| 760.6912526068846|\n",
      "|Conventional Mark...| 50.64957288578461| 722.1131373826917|\n",
      "|Enterprise Acquis...| 49.10150494950003| 423.6746128779969|\n",
      "|Conventional Conf...| 54.13122958645293|1419.8163881647636|\n",
      "|Government (Refin...| 46.15547711170299|169.41052267987533|\n",
      "|Enterprise Acquis...|  52.6417164966584|1077.4778493222125|\n",
      "|Other Conforming ...| 47.30014823375705| 382.2110349322206|\n",
      "|Jumbo Market (Hom...|  71.2141550675846|188.40489051094855|\n",
      "|Government / Non-...| 46.74410079895481|355.97327163712146|\n",
      "+--------------------+------------------+------------------+\n",
      "only showing top 20 rows\n",
      "\n"
     ]
    }
   ],
   "source": [
    "# Agrupar por 'MARKET' y calcular el promedio de VALUE1 y VALUE2\n",
    "grouped_df = df.groupBy(\"MARKET\").agg(\n",
    "    mean(\"VALUE1\").alias(\"Avg_VALUE1\"),\n",
    "    mean(\"VALUE2\").alias(\"Avg_VALUE2\")\n",
    ")\n",
    "grouped_df.show()\n"
   ]
  },
  {
   "cell_type": "code",
   "execution_count": null,
   "id": "2ba13530-9d0e-40d4-a115-c4b699be4e05",
   "metadata": {},
   "outputs": [],
   "source": []
  }
 ],
 "metadata": {
  "kernelspec": {
   "display_name": "Python 3 (ipykernel)",
   "language": "python",
   "name": "python3"
  },
  "language_info": {
   "codemirror_mode": {
    "name": "ipython",
    "version": 3
   },
   "file_extension": ".py",
   "mimetype": "text/x-python",
   "name": "python",
   "nbconvert_exporter": "python",
   "pygments_lexer": "ipython3",
   "version": "3.11.4"
  }
 },
 "nbformat": 4,
 "nbformat_minor": 5
}
