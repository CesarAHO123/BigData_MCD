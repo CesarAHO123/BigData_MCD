{
  "nbformat": 4,
  "nbformat_minor": 0,
  "metadata": {
    "colab": {
      "provenance": []
    },
    "kernelspec": {
      "name": "python3",
      "display_name": "Python 3"
    },
    "language_info": {
      "name": "python"
    }
  },
  "cells": [
    {
      "cell_type": "markdown",
      "source": [
        "# Tarea 2 (10 puntos). Operaciones con RDDs\n",
        "- Obtener información de algún origen de datos (propio o de API)\n",
        "- Convertir el origen de datos a RDD con pySpark\n",
        "- Realizar alguna operación en el RDD, como estadísticas descriptivas básicas\n",
        "- Subir la práctica a un repositorio público y etiquetarla claramente"
      ],
      "metadata": {
        "id": "ItWUkiw8u84P"
      }
    },
    {
      "cell_type": "code",
      "source": [
        "import os\n",
        "import sys\n",
        "import pyspark\n",
        "import pandas as pd\n",
        "import matplotlib.pyplot as plt\n",
        "import statistics\n",
        "from pyspark.sql import SparkSession\n",
        "from pyspark.sql.functions import col, sum as spark_sum\n",
        "from pyspark import SparkConf, SparkContext"
      ],
      "metadata": {
        "id": "vVD3aGKCpbUZ"
      },
      "execution_count": 42,
      "outputs": []
    },
    {
      "cell_type": "code",
      "source": [
        "spark = SparkSession.builder.appName(\"Tarea 2\").master(\"local[*]\").getOrCreate()\n",
        "sc = spark.sparkContext"
      ],
      "metadata": {
        "id": "IBE0eYfoqP6R"
      },
      "execution_count": 43,
      "outputs": []
    },
    {
      "cell_type": "code",
      "source": [
        "df = spark.read.csv(\"mortgage_data.csv\", header=True, inferSchema=True)\n",
        "df.printSchema()"
      ],
      "metadata": {
        "id": "HWykxTH0qm4L",
        "colab": {
          "base_uri": "https://localhost:8080/"
        },
        "outputId": "83aa4d97-9450-4ee6-cfa8-965f194584ff"
      },
      "execution_count": 44,
      "outputs": [
        {
          "output_type": "stream",
          "name": "stdout",
          "text": [
            "root\n",
            " |-- SOURCE: string (nullable = true)\n",
            " |-- FREQUENCY: string (nullable = true)\n",
            " |-- SERIESID: string (nullable = true)\n",
            " |-- GEOLEVEL: string (nullable = true)\n",
            " |-- GEOID: string (nullable = true)\n",
            " |-- GEONAME: string (nullable = true)\n",
            " |-- MARKET: string (nullable = true)\n",
            " |-- PERIOD: string (nullable = true)\n",
            " |-- YEAR: integer (nullable = true)\n",
            " |-- QUARTER: integer (nullable = true)\n",
            " |-- MONTH: integer (nullable = true)\n",
            " |-- SUPPRESSED: integer (nullable = true)\n",
            " |-- VALUE1: double (nullable = true)\n",
            " |-- VALUE2: double (nullable = true)\n",
            "\n"
          ]
        }
      ]
    },
    {
      "cell_type": "code",
      "source": [
        "df.show(5)"
      ],
      "metadata": {
        "colab": {
          "base_uri": "https://localhost:8080/"
        },
        "id": "9dfEUvsDrAhU",
        "outputId": "5a851d5a-c1b8-4044-d412-479ddcafe01e"
      },
      "execution_count": 45,
      "outputs": [
        {
          "output_type": "stream",
          "name": "stdout",
          "text": [
            "+------+---------+--------+--------+-----+-------------+--------------------+------+----+-------+-----+----------+------+--------+\n",
            "|SOURCE|FREQUENCY|SERIESID|GEOLEVEL|GEOID|      GEONAME|              MARKET|PERIOD|YEAR|QUARTER|MONTH|SUPPRESSED|VALUE1|  VALUE2|\n",
            "+------+---------+--------+--------+-----+-------------+--------------------+------+----+-------+-----+----------+------+--------+\n",
            "|  NMDB|Quarterly|TOT_ORIG|National|  USA|United States|       All Mortgages|1998Q1|1998|      1|    3|         0|2544.0|277368.0|\n",
            "|  NMDB|Quarterly|TOT_ORIG|National|  USA|United States|All Mortgages (Ho...|1998Q1|1998|      1|    3|         0|1044.0|108582.0|\n",
            "|  NMDB|Quarterly|TOT_ORIG|National|  USA|United States|All Mortgages (Re...|1998Q1|1998|      1|    3|         0|1499.0|168786.0|\n",
            "|  NMDB|Quarterly|TOT_ORIG|National|  USA|United States|       All Mortgages|1998Q2|1998|      2|    6|         0|2910.0|319970.0|\n",
            "|  NMDB|Quarterly|TOT_ORIG|National|  USA|United States|All Mortgages (Ho...|1998Q2|1998|      2|    6|         0|1482.0|157679.0|\n",
            "+------+---------+--------+--------+-----+-------------+--------------------+------+----+-------+-----+----------+------+--------+\n",
            "only showing top 5 rows\n",
            "\n"
          ]
        }
      ]
    },
    {
      "cell_type": "code",
      "source": [
        "rdd_original = df.rdd"
      ],
      "metadata": {
        "id": "Emwm64mmrC5q"
      },
      "execution_count": 46,
      "outputs": []
    },
    {
      "cell_type": "code",
      "source": [
        "# Filtrar valores donde VALUE1 y VALUE2 sean mayores que 0\n",
        "rdd_data =  rdd_original.filter(lambda row: row['VALUE1'] and row['VALUE2'] and row['VALUE1'] > 0 and row['VALUE2'] > 0)\n",
        "\n",
        "# Verificar cuántos registros quedan después de la limpieza\n",
        "print(f\"Registros originales: {rdd_original.count()}\")\n",
        "print(f\"Registros después de limpiar valores 0: {rdd_data.count()}\")"
      ],
      "metadata": {
        "colab": {
          "base_uri": "https://localhost:8080/"
        },
        "id": "zTJ26ITL9S8t",
        "outputId": "2b6e470d-9bad-4ceb-827a-7969d16fdea2"
      },
      "execution_count": 47,
      "outputs": [
        {
          "output_type": "stream",
          "name": "stdout",
          "text": [
            "Registros originales: 2007264\n",
            "Registros después de limpiar valores 0: 1677096\n"
          ]
        }
      ]
    },
    {
      "cell_type": "code",
      "source": [
        "# Extraer las columnas VALUE1 y VALUE2 para estadísticas\n",
        "value1 = rdd_data.map(lambda row: row[\"VALUE1\"]).filter(lambda x: x is not None).collect()\n",
        "value2 = rdd_data.map(lambda row: row[\"VALUE2\"]).filter(lambda x: x is not None).collect()\n",
        "# Calcular estadísticas descriptivas\n",
        "def calcular_estadisticas(valores, columna):\n",
        "    print(f\"\\nEstadísticas para {columna}:\")\n",
        "    print(f\"  Mínimo: {min(valores)}\")\n",
        "    print(f\"  Máximo: {max(valores)}\")\n",
        "    print(f\"  Media: {statistics.mean(valores)}\")\n",
        "    print(f\"  Mediana: {statistics.median(valores)}\")\n",
        "    print(f\"  Varianza: {statistics.variance(valores)}\")\n",
        "    print(f\"  Desviación Estándar: {statistics.stdev(valores)}\")\n",
        "    print(f\"  Suma: {sum(valores)}\")\n",
        "    print(f\"  Conteo: {len(valores)}\")\n",
        "\n",
        "# Calcular estadísticas para VALUE1 y VALUE2\n",
        "calcular_estadisticas(value1, \"VALUE1\")\n",
        "calcular_estadisticas(value2, \"VALUE2\")"
      ],
      "metadata": {
        "colab": {
          "base_uri": "https://localhost:8080/"
        },
        "id": "OZqbURazD7Il",
        "outputId": "efdaf415-0151-4145-94cf-1c3d0620cbe0"
      },
      "execution_count": 48,
      "outputs": [
        {
          "output_type": "stream",
          "name": "stdout",
          "text": [
            "\n",
            "Estadísticas para VALUE1:\n",
            "  Mínimo: 0.1\n",
            "  Máximo: 6161.0\n",
            "  Media: 47.73339564342172\n",
            "  Mediana: 23.4\n",
            "  Varianza: 13469.394732234501\n",
            "  Desviación Estándar: 116.05772155369284\n",
            "  Suma: 80053486.89997195\n",
            "  Conteo: 1677096\n",
            "\n",
            "Estadísticas para VALUE2:\n",
            "  Mínimo: 0.1\n",
            "  Máximo: 1159331.0\n",
            "  Media: 852.8413477224917\n",
            "  Mediana: 24.0\n",
            "  Varianza: 137095845.24771655\n",
            "  Desviación Estándar: 11708.793500942638\n",
            "  Suma: 1430296812.898748\n",
            "  Conteo: 1677096\n"
          ]
        }
      ]
    },
    {
      "cell_type": "code",
      "source": [
        "# Filtrar las filas donde el año (YEAR) sea mayor a 2010\n",
        "rdd_filtered = rdd_data.filter(lambda row: row['YEAR'] > 2010)\n",
        "\n",
        "# Calcular el costo promedio por hipoteca (VALUE2 / VALUE1)\n",
        "rdd_costo_hipoteca = rdd_filtered.map(lambda row: (row['YEAR'], row['VALUE2'], row['VALUE2'] / row['VALUE1']))\n",
        "rdd_costo_hipoteca.take(5)"
      ],
      "metadata": {
        "id": "XciBVqRpKGgp",
        "colab": {
          "base_uri": "https://localhost:8080/"
        },
        "outputId": "43bcdbaa-d4b4-4a8a-a703-8f8d2256cbbf"
      },
      "execution_count": 49,
      "outputs": [
        {
          "output_type": "execute_result",
          "data": {
            "text/plain": [
              "[(2011, 315703.0, 208.24736147757255),\n",
              " (2011, 92100.0, 196.37526652452024),\n",
              " (2011, 223603.0, 213.56542502387774),\n",
              " (2011, 283723.0, 198.96423562412343),\n",
              " (2011, 129088.0, 194.1172932330827)]"
            ]
          },
          "metadata": {},
          "execution_count": 49
        }
      ]
    },
    {
      "cell_type": "code",
      "source": [
        "# Filtrar columnas relevantes (YEAR y VALUE2)\n",
        "rdd_graphics_value1 = rdd_filtered.map(lambda x: (int(x['YEAR']), float(x['VALUE1'])))\n",
        "rdd_graphics_value2 = rdd_filtered.map(lambda x: (int(x['YEAR']), float(x['VALUE2'])))"
      ],
      "metadata": {
        "id": "p9FJyG94_FmJ"
      },
      "execution_count": 50,
      "outputs": []
    },
    {
      "cell_type": "code",
      "source": [
        "\n",
        "# Calcular la suma total de VALUE1 por YEAR\n",
        "rdd_suma_anual_value1 = rdd_graphics_value1.reduceByKey(lambda x, y: x + y)\n",
        "# Calcular la suma total de VALUE2 por YEAR\n",
        "rdd_suma_anual_value2 = rdd_graphics_value2.reduceByKey(lambda x, y: x + y)\n",
        "# Recolectar y ordenar los datos\n",
        "suma_value1_por_anio = rdd_suma_anual_value1.collect()\n",
        "suma_value2_por_anio = rdd_suma_anual_value2.collect()"
      ],
      "metadata": {
        "id": "sqxdaNauOGlZ"
      },
      "execution_count": 51,
      "outputs": []
    },
    {
      "cell_type": "code",
      "source": [
        "suma_value1_por_anio.sort(key=lambda x: x[0])  # Ordenar por YEAR\n",
        "suma_value2_por_anio.sort(key=lambda x: x[0])  # Ordenar por YEAR"
      ],
      "metadata": {
        "id": "RzSql_p4Og1x"
      },
      "execution_count": 52,
      "outputs": []
    },
    {
      "cell_type": "code",
      "source": [
        "rdd_suma_anual_value1.take(5)"
      ],
      "metadata": {
        "colab": {
          "base_uri": "https://localhost:8080/"
        },
        "id": "EL_vxyaIn5hK",
        "outputId": "b0eca43b-a672-46a6-a22f-548648df8eff"
      },
      "execution_count": 53,
      "outputs": [
        {
          "output_type": "execute_result",
          "data": {
            "text/plain": [
              "[(2012, 3212535.5000000373),\n",
              " (2014, 3086368.2000000197),\n",
              " (2016, 3140045.599999999),\n",
              " (2018, 3098102.1000000015),\n",
              " (2020, 3301797.1000000257)]"
            ]
          },
          "metadata": {},
          "execution_count": 53
        }
      ]
    },
    {
      "cell_type": "code",
      "source": [
        "# Separar años y valores de suma para VALUE1\n",
        "años_value1 = [x[0] for x in suma_value1_por_anio]\n",
        "valores_value1 = [x[1] for x in suma_value1_por_anio]\n",
        "\n",
        "# Separar años y valores de suma para VALUE2\n",
        "años_value2 = [x[0] for x in suma_value2_por_anio]\n",
        "valores_value2 = [x[1] for x in suma_value2_por_anio]"
      ],
      "metadata": {
        "id": "cuqTIefBGFMs"
      },
      "execution_count": 54,
      "outputs": []
    },
    {
      "cell_type": "code",
      "source": [
        "# Imprimir los resultados\n",
        "print(\"Cantidad de hipotecas por Año:\")\n",
        "for año, suma in suma_value1_por_anio:\n",
        "    print(f\"Año: {año}, Suma: {suma}\")\n",
        "\n",
        "print(\"\\nCantidad de dolares en hipotecas por Año:\")\n",
        "for año, suma in suma_value2_por_anio:\n",
        "    print(f\"Año: {año}, Suma: {suma}\")"
      ],
      "metadata": {
        "colab": {
          "base_uri": "https://localhost:8080/"
        },
        "id": "By5Q0kgEdAAw",
        "outputId": "42fbdd58-a877-4701-c995-062fa5729cb5"
      },
      "execution_count": 55,
      "outputs": [
        {
          "output_type": "stream",
          "name": "stdout",
          "text": [
            "Cantidad de hipotecas por Año:\n",
            "Año: 2011, Suma: 3131059.7000000095\n",
            "Año: 2012, Suma: 3212535.5000000373\n",
            "Año: 2013, Suma: 3172331.80000001\n",
            "Año: 2014, Suma: 3086368.2000000197\n",
            "Año: 2015, Suma: 3118013.3000000003\n",
            "Año: 2016, Suma: 3140045.599999999\n",
            "Año: 2017, Suma: 3112451.800000016\n",
            "Año: 2018, Suma: 3098102.1000000015\n",
            "Año: 2019, Suma: 3146169.999999969\n",
            "Año: 2020, Suma: 3301797.1000000257\n",
            "Año: 2021, Suma: 3307929.200000003\n",
            "Año: 2022, Suma: 3118744.800000006\n",
            "Año: 2023, Suma: 2294938.700000004\n",
            "\n",
            "Cantidad de dolares en hipotecas por Año:\n",
            "Año: 2011, Suma: 40360693.800001025\n",
            "Año: 2012, Suma: 57555581.90000054\n",
            "Año: 2013, Suma: 49232995.90000102\n",
            "Año: 2014, Suma: 34288899.00000056\n",
            "Año: 2015, Suma: 43821570.89999957\n",
            "Año: 2016, Suma: 51375358.30000056\n",
            "Año: 2017, Suma: 44673444.6000017\n",
            "Año: 2018, Suma: 41632162.20000033\n",
            "Año: 2019, Suma: 57748537.50000068\n",
            "Año: 2020, Suma: 102903859.4999993\n",
            "Año: 2021, Suma: 110942362.99999891\n",
            "Año: 2022, Suma: 57986701.40000033\n",
            "Año: 2023, Suma: 28330531.800000522\n"
          ]
        }
      ]
    },
    {
      "cell_type": "code",
      "source": [
        "# Crear figuras\n",
        "plt.figure(figsize=(12, 6))\n",
        "# Gráfico 1: Suma de VALUE1\n",
        "plt.subplot(1, 2, 1)  # 1 fila, 2 columnas, gráfico 1\n",
        "plt.bar(años_value1, valores_value1, color='g', alpha=0.7)\n",
        "plt.xlabel('Año')\n",
        "plt.ylabel('Numero de hipotecas')\n",
        "plt.title('Hipotecas por Año')\n",
        "plt.grid(axis='y', linestyle='--', alpha=0.7)"
      ],
      "metadata": {
        "colab": {
          "base_uri": "https://localhost:8080/",
          "height": 564
        },
        "id": "LOmelpMHlk_8",
        "outputId": "78a2c064-231d-4dc4-ea16-bd3c29f3a999"
      },
      "execution_count": 56,
      "outputs": [
        {
          "output_type": "display_data",
          "data": {
            "text/plain": [
              "<Figure size 1200x600 with 1 Axes>"
            ],
            "image/png": "[encoded data removed]"
          },
          "metadata": {}
        }
      ]
    },
    {
      "cell_type": "code",
      "source": [
        "# Gráfico 2: Suma de VALUE2\n",
        "plt.figure(figsize=(12, 6))\n",
        "plt.subplot(1, 2, 2)  # 1 fila, 2 columnas, gráfico 2\n",
        "plt.bar(años_value2, valores_value2, color='b', alpha=0.7)\n",
        "plt.xlabel('Año')\n",
        "plt.ylabel('Dolares en hipotecas')\n",
        "plt.title('Dolares en hipotecas por Año')\n",
        "plt.grid(axis='y', linestyle='--', alpha=0.7)"
      ],
      "metadata": {
        "colab": {
          "base_uri": "https://localhost:8080/",
          "height": 564
        },
        "id": "iGTKvSPqQYem",
        "outputId": "b6b8cc42-ec4c-4225-f0b1-55b1a680b418"
      },
      "execution_count": 57,
      "outputs": [
        {
          "output_type": "display_data",
          "data": {
            "text/plain": [
              "<Figure size 1200x600 with 1 Axes>"
            ],
            "image/png": "[encoded data removed]"
          },
          "metadata": {}
        }
      ]
    },
    {
      "cell_type": "code",
      "source": [
        "# Filtrar columnas relevantes (MARKET y VALUE2)\n",
        "rdd_market_value2 = rdd_data.map(lambda x: (x['MARKET'], float(x['VALUE2'])))\n",
        "\n",
        "# Agrupar por MARKET y calcular la suma total de VALUE2\n",
        "rdd_suma_market_value2 = rdd_market_value2.reduceByKey(lambda x, y: x + y)\n",
        "\n",
        "# Recolectar los datos y ordenar por la suma (descendente)\n",
        "suma_market_value2 = rdd_suma_market_value2.collect()\n",
        "suma_market_value2.sort(key=lambda x: x[1], reverse=True)  # Ordenar por suma de VALUE2 (descendente)\n",
        "\n",
        "# Obtener los primeros 20 resultados\n",
        "primeros_20 = suma_market_value2[:20]\n",
        "\n",
        "# Imprimir los primeros 20 resultados\n",
        "print(\"Primeros 20 Mercados por Suma de VALUE2:\")\n",
        "for i, (mercado, suma) in enumerate(primeros_20, start=1):\n",
        "    print(f\"{i}. Mercado: {mercado}, Suma de VALUE2: {suma}\")\n"
      ],
      "metadata": {
        "id": "Bui9gbtRRWUH",
        "colab": {
          "base_uri": "https://localhost:8080/"
        },
        "outputId": "a2b8f52f-7726-4738-ddbd-2524e5fb503a"
      },
      "execution_count": 58,
      "outputs": [
        {
          "output_type": "stream",
          "name": "stdout",
          "text": [
            "Primeros 20 Mercados por Suma de VALUE2:\n",
            "1. Mercado: All Mortgages, Suma de VALUE2: 158600046.3999966\n",
            "2. Mercado: Conventional Market, Suma de VALUE2: 134345063.59999827\n",
            "3. Mercado: Conforming Market, Suma de VALUE2: 133183758.29999822\n",
            "4. Mercado: Conventional Conforming Market, Suma de VALUE2: 108928311.99999876\n",
            "5. Mercado: All Mortgages (Refinance), Suma de VALUE2: 91957263.89999826\n",
            "6. Mercado: Enterprise Acquisitions, Suma de VALUE2: 82664098.49999899\n",
            "7. Mercado: Conventional Market (Refinance), Suma de VALUE2: 82018514.6999998\n",
            "8. Mercado: Conforming Market (Refinance), Suma de VALUE2: 77887633.1999983\n",
            "9. Mercado: All Mortgages (Home Purchase), Suma de VALUE2: 69712965.99999784\n",
            "10. Mercado: Conventional Conforming Market (Refinance), Suma de VALUE2: 67948319.20000042\n",
            "11. Mercado: Conforming Market (Home Purchase), Suma de VALUE2: 58360232.10000107\n",
            "12. Mercado: Conventional Market (Home Purchase), Suma de VALUE2: 55400518.000000305\n",
            "13. Mercado: Enterprise Acquisitions (Refinance), Suma de VALUE2: 53239030.700000286\n",
            "14. Mercado: Conventional Conforming Market (Home Purchase), Suma de VALUE2: 44046896.10000068\n",
            "15. Mercado: Enterprise Acquisitions (Home Purchase), Suma de VALUE2: 32504314.40000025\n",
            "16. Mercado: Other Conforming Market, Suma de VALUE2: 29323228.100000165\n",
            "17. Mercado: Jumbo Market, Suma de VALUE2: 28523106.600000035\n",
            "18. Mercado: Government / Non-Conventional, Suma de VALUE2: 27310267.000000417\n",
            "19. Mercado: Other Conforming Market (Refinance), Suma de VALUE2: 17771035.000000082\n",
            "20. Mercado: Government (Home Purchase), Suma de VALUE2: 17368911.39999991\n"
          ]
        }
      ]
    },
    {
      "cell_type": "code",
      "source": [
        "# Renombrar columnas\n",
        "df = df.withColumnRenamed(\"VALUE1\", \"MORT_NUMBER\").withColumnRenamed(\"VALUE2\", \"DOLLAR_MEAN\")\n",
        "\n",
        "# Crear nueva columna promediada\n",
        "df = df.withColumn(\"VOL_DOLLAR\", (col(\"MORT_NUMBER\") * 20 * col(\"DOLLAR_MEAN\")))\n",
        "\n",
        "# Mostrar resultado\n",
        "df.show()"
      ],
      "metadata": {
        "colab": {
          "base_uri": "https://localhost:8080/"
        },
        "id": "rWwrWdES6AOe",
        "outputId": "da4951de-2fce-4523-f1cc-5c94e3e36f5e"
      },
      "execution_count": 59,
      "outputs": [
        {
          "output_type": "stream",
          "name": "stdout",
          "text": [
            "+------+---------+--------+--------+-----+-------------+--------------------+------+----+-------+-----+----------+-----------+-----------+--------------+\n",
            "|SOURCE|FREQUENCY|SERIESID|GEOLEVEL|GEOID|      GEONAME|              MARKET|PERIOD|YEAR|QUARTER|MONTH|SUPPRESSED|MORT_NUMBER|DOLLAR_MEAN|    VOL_DOLLAR|\n",
            "+------+---------+--------+--------+-----+-------------+--------------------+------+----+-------+-----+----------+-----------+-----------+--------------+\n",
            "|  NMDB|Quarterly|TOT_ORIG|National|  USA|United States|       All Mortgages|1998Q1|1998|      1|    3|         0|     2544.0|   277368.0|1.411248384E10|\n",
            "|  NMDB|Quarterly|TOT_ORIG|National|  USA|United States|All Mortgages (Ho...|1998Q1|1998|      1|    3|         0|     1044.0|   108582.0|  2.26719216E9|\n",
            "|  NMDB|Quarterly|TOT_ORIG|National|  USA|United States|All Mortgages (Re...|1998Q1|1998|      1|    3|         0|     1499.0|   168786.0|  5.06020428E9|\n",
            "|  NMDB|Quarterly|TOT_ORIG|National|  USA|United States|       All Mortgages|1998Q2|1998|      2|    6|         0|     2910.0|   319970.0|  1.8622254E10|\n",
            "|  NMDB|Quarterly|TOT_ORIG|National|  USA|United States|All Mortgages (Ho...|1998Q2|1998|      2|    6|         0|     1482.0|   157679.0|  4.67360556E9|\n",
            "|  NMDB|Quarterly|TOT_ORIG|National|  USA|United States|All Mortgages (Re...|1998Q2|1998|      2|    6|         0|     1427.0|   162291.0|  4.63178514E9|\n",
            "|  NMDB|Quarterly|TOT_ORIG|National|  USA|United States|       All Mortgages|1998Q3|1998|      3|    9|         0|     2817.0|   317604.0|1.789380936E10|\n",
            "|  NMDB|Quarterly|TOT_ORIG|National|  USA|United States|All Mortgages (Ho...|1998Q3|1998|      3|    9|         0|     1467.0|   157723.0|  4.62759282E9|\n",
            "|  NMDB|Quarterly|TOT_ORIG|National|  USA|United States|All Mortgages (Re...|1998Q3|1998|      3|    9|         0|     1349.0|   159881.0|  4.31358938E9|\n",
            "|  NMDB|Quarterly|TOT_ORIG|National|  USA|United States|       All Mortgages|1998Q4|1998|      4|   12|         0|     3414.0|   392280.0| 2.67848784E10|\n",
            "|  NMDB|Quarterly|TOT_ORIG|National|  USA|United States|All Mortgages (Ho...|1998Q4|1998|      4|   12|         0|     1331.0|   147287.0|  3.92077994E9|\n",
            "|  NMDB|Quarterly|TOT_ORIG|National|  USA|United States|All Mortgages (Re...|1998Q4|1998|      4|   12|         0|     2082.0|   244993.0|1.020150852E10|\n",
            "|  NMDB|Quarterly|TOT_ORIG|National|  USA|United States|       All Mortgages|1999Q1|1999|      1|    3|         0|     2744.0|   318357.0|1.747143216E10|\n",
            "|  NMDB|Quarterly|TOT_ORIG|National|  USA|United States|All Mortgages (Ho...|1999Q1|1999|      1|    3|         0|     1145.0|   130187.0|   2.9812823E9|\n",
            "|  NMDB|Quarterly|TOT_ORIG|National|  USA|United States|All Mortgages (Re...|1999Q1|1999|      1|    3|         0|     1599.0|   188170.0|   6.0176766E9|\n",
            "|  NMDB|Quarterly|TOT_ORIG|National|  USA|United States|       All Mortgages|1999Q2|1999|      2|    6|         0|     2662.0|   309200.0|  1.6461808E10|\n",
            "|  NMDB|Quarterly|TOT_ORIG|National|  USA|United States|All Mortgages (Ho...|1999Q2|1999|      2|    6|         0|     1512.0|   175241.0|  5.29928784E9|\n",
            "|  NMDB|Quarterly|TOT_ORIG|National|  USA|United States|All Mortgages (Re...|1999Q2|1999|      2|    6|         0|     1150.0|   133959.0|    3.081057E9|\n",
            "|  NMDB|Quarterly|TOT_ORIG|National|  USA|United States|       All Mortgages|1999Q3|1999|      3|    9|         0|     2227.0|   253131.0|1.127445474E10|\n",
            "|  NMDB|Quarterly|TOT_ORIG|National|  USA|United States|All Mortgages (Ho...|1999Q3|1999|      3|    9|         0|     1455.0|   168987.0|   4.9175217E9|\n",
            "+------+---------+--------+--------+-----+-------------+--------------------+------+----+-------+-----+----------+-----------+-----------+--------------+\n",
            "only showing top 20 rows\n",
            "\n"
          ]
        }
      ]
    },
    {
      "cell_type": "code",
      "source": [
        "# Para guardarlo en Google Drive (opcional)\n",
        "from google.colab import drive\n",
        "drive.mount('/content/drive')\n",
        "\n",
        "# Ruta en tu Google Drive\n",
        "output_path = '/content/drive/My Drive/processed_data.csv'\n",
        "df=df.coalesce(1)\n",
        "df.write.csv(output_path, header=True, mode='overwrite')\n",
        "\n",
        "\n",
        "print(f\"Archivo guardado como: {output_path}\")"
      ],
      "metadata": {
        "colab": {
          "base_uri": "https://localhost:8080/"
        },
        "id": "MBGWFZEwTrFv",
        "outputId": "64f9c7b9-5d75-4c59-84f7-98778fdd1532"
      },
      "execution_count": 64,
      "outputs": [
        {
          "output_type": "stream",
          "name": "stdout",
          "text": [
            "Drive already mounted at /content/drive; to attempt to forcibly remount, call drive.mount(\"/content/drive\", force_remount=True).\n",
            "Archivo guardado como: /content/drive/My Drive/processed_data.csv\n"
          ]
        }
      ]
    },
    {
      "cell_type": "code",
      "source": [
        "spark.stop()\n"
      ],
      "metadata": {
        "id": "RgajGH9Rs-kt"
      },
      "execution_count": null,
      "outputs": []
    }
  ]
}