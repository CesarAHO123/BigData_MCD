{
  "nbformat": 4,
  "nbformat_minor": 0,
  "metadata": {
    "colab": {
      "provenance": []
    },
    "kernelspec": {
      "name": "python3",
      "display_name": "Python 3"
    },
    "language_info": {
      "name": "python"
    }
  },
  "cells": [
    {
      "cell_type": "code",
      "execution_count": 20,
      "metadata": {
        "id": "_mILJa3_NKNT"
      },
      "outputs": [],
      "source": [
        "from pyspark.ml.feature import StringIndexer, VectorAssembler\n",
        "from pyspark.ml.regression import LinearRegression\n",
        "from pyspark.ml.evaluation import RegressionEvaluator\n",
        "from pyspark.sql import SparkSession,Row\n",
        "from pyspark.sql.functions import col\n"
      ]
    },
    {
      "cell_type": "code",
      "source": [
        "# Iniciar una sesión de PySpark\n",
        "spark = SparkSession.builder.appName(\"MortgagePrediction\").getOrCreate()"
      ],
      "metadata": {
        "id": "ImD74ISocBCB"
      },
      "execution_count": 2,
      "outputs": []
    },
    {
      "cell_type": "code",
      "source": [
        "# Cargar los datos\n",
        "file_path = \"/content/drive/My Drive/clean_mortgage_data.csv\"\n",
        "data = spark.read.csv(file_path, header=True, inferSchema=True)\n",
        "data = data.filter(col(\"MARKET\").rlike(r\"\\(\"))\n",
        "data=data.orderBy([\"YEAR\", \"MONTH\"], ascending=[True, True])\n",
        "# Mostrar las primeras filas\n",
        "data.show(5)"
      ],
      "metadata": {
        "colab": {
          "base_uri": "https://localhost:8080/"
        },
        "id": "s5xx3yCEPO81",
        "outputId": "699e879c-388b-4d8d-87ac-c25f5d821270"
      },
      "execution_count": 35,
      "outputs": [
        {
          "output_type": "stream",
          "name": "stdout",
          "text": [
            "+------+---------+-------------+---------------+-----+-------------+--------------------+------+----+-------+-----+----------+-----------+-----------+------------------+\n",
            "|SOURCE|FREQUENCY|     SERIESID|       GEOLEVEL|GEOID|      GEONAME|              MARKET|PERIOD|YEAR|QUARTER|MONTH|SUPPRESSED|MORT_NUMBER|DOLLAR_MEAN|        VOL_DOLLAR|\n",
            "+------+---------+-------------+---------------+-----+-------------+--------------------+------+----+-------+-----+----------+-----------+-----------+------------------+\n",
            "|  NMDB|Quarterly|PCT_CLTV_8090|       National|  USA|United States|Conventional Conf...|1998Q1|1998|      1|    3|         0|       16.9|       20.1|            6793.8|\n",
            "|  NMDB|Quarterly|     TOT_ORIG|  Census Region|  RNE|    Northeast|All Mortgages (Ho...|1998Q1|1998|      1|    3|         0|      145.0|    16994.0|         4.92826E7|\n",
            "|  NMDB|Quarterly|PCT_CLTV_8090|  Census Region|  RNE|    Northeast|Conventional Conf...|1998Q1|1998|      1|    3|         0|        9.4|       12.1|2274.7999999999997|\n",
            "|  NMDB|Quarterly|     TOT_ORIG|Census Division|  DNE|  New England|All Mortgages (Re...|1998Q1|1998|      1|    3|         0|       89.0|    11305.0|         2.01229E7|\n",
            "|  NMDB|Quarterly|PCT_CLTV_8090|       National|  USA|United States|Conventional Conf...|1998Q1|1998|      1|    3|         0|       10.9|       13.3|            2899.4|\n",
            "+------+---------+-------------+---------------+-----+-------------+--------------------+------+----+-------+-----+----------+-----------+-----------+------------------+\n",
            "only showing top 5 rows\n",
            "\n"
          ]
        }
      ]
    },
    {
      "cell_type": "code",
      "source": [
        "# Manejo de valores nulos (si los hay)\n",
        "data = data.dropna()"
      ],
      "metadata": {
        "id": "nMJIWcrxOCNE"
      },
      "execution_count": 36,
      "outputs": []
    },
    {
      "cell_type": "code",
      "source": [
        "# Transformar columnas categóricas en índices numéricos\n",
        "indexer_geoname = StringIndexer(inputCol=\"GEONAME\", outputCol=\"GEONAME_Index\")\n",
        "indexer_market = StringIndexer(inputCol=\"MARKET\", outputCol=\"MARKET_Index\")"
      ],
      "metadata": {
        "id": "0UHPBjQzMz5A"
      },
      "execution_count": 9,
      "outputs": []
    },
    {
      "cell_type": "code",
      "source": [
        "original_data=data"
      ],
      "metadata": {
        "id": "oqcRE3wXUBm0"
      },
      "execution_count": 37,
      "outputs": []
    },
    {
      "cell_type": "code",
      "source": [
        "data = indexer_geoname.fit(data).transform(data)\n",
        "data = indexer_market.fit(data).transform(data)"
      ],
      "metadata": {
        "id": "9-qHQ5ClMz2P"
      },
      "execution_count": 10,
      "outputs": []
    },
    {
      "cell_type": "code",
      "source": [
        "# Crear un vector de características\n",
        "assembler = VectorAssembler(\n",
        "    inputCols=[\"GEONAME_Index\", \"MARKET_Index\", \"YEAR\"],\n",
        "    outputCol=\"features\"\n",
        ")\n",
        "data = assembler.transform(data)"
      ],
      "metadata": {
        "id": "14uUXs-MMzzW"
      },
      "execution_count": 11,
      "outputs": []
    },
    {
      "cell_type": "code",
      "source": [
        "# Seleccionar características y etiqueta\n",
        "data = data.select(\"features\", \"MORT_NUMBER\", \"YEAR\")"
      ],
      "metadata": {
        "id": "im5OvGbGMzxH"
      },
      "execution_count": 13,
      "outputs": []
    },
    {
      "cell_type": "code",
      "source": [
        "# Ordenar los datos por YEAR en orden ascendente\n",
        "data = data.orderBy(\"YEAR\")\n",
        "# Dividir el conjunto de datos en 80% entrenamiento y 20% prueba basado en la temporalidad\n",
        "# Calcular el límite para el 80% de los datos\n",
        "total_count = data.count()\n",
        "train_count = int(total_count * 0.8)\n",
        "# Dividir los datos\n",
        "train_data = data.limit(train_count)  # Los primeros años (80%)\n",
        "test_data = data.subtract(train_data)  # El resto (20%)"
      ],
      "metadata": {
        "id": "1U8goC5vMzuy"
      },
      "execution_count": 14,
      "outputs": []
    },
    {
      "cell_type": "code",
      "source": [
        "# Crear y entrenar el modelo de regresión lineal\n",
        "lr = LinearRegression(featuresCol=\"features\", labelCol=\"MORT_NUMBER\")\n",
        "lr_model = lr.fit(train_data)\n"
      ],
      "metadata": {
        "id": "drqzqyJPMzsh"
      },
      "execution_count": 15,
      "outputs": []
    },
    {
      "cell_type": "code",
      "source": [
        "# Hacer predicciones en el conjunto de prueba\n",
        "predictions = lr_model.transform(test_data)"
      ],
      "metadata": {
        "id": "jqF5DUd-Mzmn"
      },
      "execution_count": 16,
      "outputs": []
    },
    {
      "cell_type": "code",
      "source": [
        "# Evaluar el modelo\n",
        "evaluator = RegressionEvaluator(\n",
        "    labelCol=\"MORT_NUMBER\",\n",
        "    predictionCol=\"prediction\",\n",
        "    metricName=\"rmse\"\n",
        ")"
      ],
      "metadata": {
        "id": "4Swmi8FLMzY7"
      },
      "execution_count": 17,
      "outputs": []
    },
    {
      "cell_type": "code",
      "source": [
        "rmse = evaluator.evaluate(predictions)\n",
        "print(f\"Root Mean Squared Error (RMSE): {rmse}\")\n",
        "\n",
        "# Mostrar predicciones\n",
        "predictions.select(\"features\", \"MORT_NUMBER\", \"prediction\").show(100)"
      ],
      "metadata": {
        "colab": {
          "base_uri": "https://localhost:8080/"
        },
        "id": "2Q0cVsiFNQ8B",
        "outputId": "58d4b64d-3176-4c31-e8ca-83efa36a4f2f"
      },
      "execution_count": 18,
      "outputs": [
        {
          "output_type": "stream",
          "name": "stdout",
          "text": [
            "Root Mean Squared Error (RMSE): 118.78156380764898\n",
            "+-----------------+-----------+------------------+\n",
            "|         features|MORT_NUMBER|        prediction|\n",
            "+-----------------+-----------+------------------+\n",
            "| [0.0,0.0,2018.0]|        6.3| 40.72878024569286|\n",
            "| [0.0,0.0,2018.0]|       11.9| 40.72878024569286|\n",
            "| [0.0,0.0,2018.0]|       13.4| 40.72878024569286|\n",
            "| [0.0,0.0,2018.0]|       14.2| 40.72878024569286|\n",
            "| [0.0,0.0,2018.0]|       23.1| 40.72878024569286|\n",
            "| [0.0,0.0,2018.0]|       25.2| 40.72878024569286|\n",
            "| [0.0,0.0,2018.0]|       33.5| 40.72878024569286|\n",
            "| [0.0,0.0,2018.0]|       36.6| 40.72878024569286|\n",
            "| [0.0,0.0,2018.0]|       51.7| 40.72878024569286|\n",
            "| [0.0,0.0,2018.0]|       87.6| 40.72878024569286|\n",
            "| [0.0,1.0,2018.0]|        5.4|40.395873579257795|\n",
            "| [0.0,1.0,2018.0]|       19.6|40.395873579257795|\n",
            "| [0.0,1.0,2018.0]|       23.1|40.395873579257795|\n",
            "| [0.0,1.0,2018.0]|       25.7|40.395873579257795|\n",
            "| [0.0,1.0,2018.0]|       34.2|40.395873579257795|\n",
            "| [0.0,1.0,2018.0]|       43.3|40.395873579257795|\n",
            "| [0.0,1.0,2018.0]|       52.0|40.395873579257795|\n",
            "| [0.0,2.0,2018.0]|        5.6| 40.06296691282273|\n",
            "| [0.0,2.0,2018.0]|        6.4| 40.06296691282273|\n",
            "| [0.0,2.0,2018.0]|       14.2| 40.06296691282273|\n",
            "| [0.0,2.0,2018.0]|       20.6| 40.06296691282273|\n",
            "| [0.0,2.0,2018.0]|       23.4| 40.06296691282273|\n",
            "| [0.0,2.0,2018.0]|       23.8| 40.06296691282273|\n",
            "| [0.0,2.0,2018.0]|       33.9| 40.06296691282273|\n",
            "| [0.0,2.0,2018.0]|       36.8| 40.06296691282273|\n",
            "| [0.0,2.0,2018.0]|       39.1| 40.06296691282273|\n",
            "| [0.0,2.0,2018.0]|       81.2| 40.06296691282273|\n",
            "| [0.0,2.0,2018.0]|       87.7| 40.06296691282273|\n",
            "| [0.0,3.0,2018.0]|        5.6|39.730060246387666|\n",
            "| [0.0,3.0,2018.0]|        8.7|39.730060246387666|\n",
            "| [0.0,3.0,2018.0]|        9.6|39.730060246387666|\n",
            "| [0.0,3.0,2018.0]|       18.2|39.730060246387666|\n",
            "| [0.0,3.0,2018.0]|       28.7|39.730060246387666|\n",
            "| [0.0,3.0,2018.0]|       41.0|39.730060246387666|\n",
            "| [0.0,3.0,2018.0]|       87.0|39.730060246387666|\n",
            "| [0.0,3.0,2018.0]|       91.0|39.730060246387666|\n",
            "| [0.0,4.0,2018.0]|        0.4|  39.3971535799526|\n",
            "| [0.0,4.0,2018.0]|        0.8|  39.3971535799526|\n",
            "| [0.0,4.0,2018.0]|        2.4|  39.3971535799526|\n",
            "| [0.0,4.0,2018.0]|        6.5|  39.3971535799526|\n",
            "| [0.0,4.0,2018.0]|       18.7|  39.3971535799526|\n",
            "| [0.0,4.0,2018.0]|       41.7|  39.3971535799526|\n",
            "| [0.0,4.0,2018.0]|       71.8|  39.3971535799526|\n",
            "| [0.0,5.0,2018.0]|        3.5|39.064246913517536|\n",
            "| [0.0,5.0,2018.0]|       19.6|39.064246913517536|\n",
            "| [0.0,5.0,2018.0]|       25.1|39.064246913517536|\n",
            "| [0.0,5.0,2018.0]|       26.6|39.064246913517536|\n",
            "| [0.0,5.0,2018.0]|       34.7|39.064246913517536|\n",
            "| [0.0,5.0,2018.0]|       45.0|39.064246913517536|\n",
            "| [0.0,5.0,2018.0]|       88.7|39.064246913517536|\n",
            "| [0.0,6.0,2018.0]|        0.4|38.731340247082585|\n",
            "| [0.0,6.0,2018.0]|        6.4|38.731340247082585|\n",
            "| [0.0,6.0,2018.0]|       11.2|38.731340247082585|\n",
            "| [0.0,6.0,2018.0]|       16.1|38.731340247082585|\n",
            "| [0.0,6.0,2018.0]|       22.3|38.731340247082585|\n",
            "| [0.0,6.0,2018.0]|       32.1|38.731340247082585|\n",
            "| [0.0,6.0,2018.0]|       32.2|38.731340247082585|\n",
            "| [0.0,6.0,2018.0]|       33.7|38.731340247082585|\n",
            "| [0.0,6.0,2018.0]|       42.0|38.731340247082585|\n",
            "| [0.0,6.0,2018.0]|       83.1|38.731340247082585|\n",
            "| [0.0,7.0,2018.0]|        2.2| 38.39843358064752|\n",
            "| [0.0,7.0,2018.0]|       18.0| 38.39843358064752|\n",
            "| [0.0,7.0,2018.0]|       22.5| 38.39843358064752|\n",
            "| [0.0,7.0,2018.0]|       26.8| 38.39843358064752|\n",
            "| [0.0,7.0,2018.0]|       32.1| 38.39843358064752|\n",
            "| [0.0,7.0,2018.0]|       33.3| 38.39843358064752|\n",
            "| [0.0,7.0,2018.0]|       45.2| 38.39843358064752|\n",
            "| [0.0,7.0,2018.0]|       49.6| 38.39843358064752|\n",
            "| [0.0,7.0,2018.0]|       63.7| 38.39843358064752|\n",
            "| [0.0,8.0,2018.0]|        3.8|38.065526914212455|\n",
            "| [0.0,8.0,2018.0]|        5.8|38.065526914212455|\n",
            "| [0.0,8.0,2018.0]|        6.8|38.065526914212455|\n",
            "| [0.0,8.0,2018.0]|       12.5|38.065526914212455|\n",
            "| [0.0,8.0,2018.0]|       16.4|38.065526914212455|\n",
            "| [0.0,8.0,2018.0]|       24.5|38.065526914212455|\n",
            "| [0.0,8.0,2018.0]|       24.9|38.065526914212455|\n",
            "| [0.0,8.0,2018.0]|       27.4|38.065526914212455|\n",
            "| [0.0,8.0,2018.0]|       32.7|38.065526914212455|\n",
            "| [0.0,8.0,2018.0]|       39.9|38.065526914212455|\n",
            "| [0.0,8.0,2018.0]|       82.2|38.065526914212455|\n",
            "| [0.0,9.0,2018.0]|        2.4| 37.73262024777739|\n",
            "| [0.0,9.0,2018.0]|        4.2| 37.73262024777739|\n",
            "| [0.0,9.0,2018.0]|        7.6| 37.73262024777739|\n",
            "| [0.0,9.0,2018.0]|       20.8| 37.73262024777739|\n",
            "| [0.0,9.0,2018.0]|       32.8| 37.73262024777739|\n",
            "| [0.0,9.0,2018.0]|       45.2| 37.73262024777739|\n",
            "| [0.0,9.0,2018.0]|       52.0| 37.73262024777739|\n",
            "| [0.0,9.0,2018.0]|       91.9| 37.73262024777739|\n",
            "|[0.0,10.0,2018.0]|        9.6|37.399713581342326|\n",
            "|[0.0,10.0,2018.0]|       10.8|37.399713581342326|\n",
            "|[0.0,10.0,2018.0]|       22.5|37.399713581342326|\n",
            "|[0.0,10.0,2018.0]|       31.7|37.399713581342326|\n",
            "|[0.0,10.0,2018.0]|       37.6|37.399713581342326|\n",
            "|[0.0,10.0,2018.0]|       45.1|37.399713581342326|\n",
            "|[0.0,10.0,2018.0]|       76.2|37.399713581342326|\n",
            "|[0.0,11.0,2018.0]|        2.1| 37.06680691490726|\n",
            "|[0.0,11.0,2018.0]|        7.4| 37.06680691490726|\n",
            "|[0.0,11.0,2018.0]|        8.6| 37.06680691490726|\n",
            "|[0.0,11.0,2018.0]|        9.4| 37.06680691490726|\n",
            "|[0.0,11.0,2018.0]|       18.4| 37.06680691490726|\n",
            "+-----------------+-----------+------------------+\n",
            "only showing top 100 rows\n",
            "\n"
          ]
        }
      ]
    },
    {
      "cell_type": "code",
      "source": [
        "input_data = [\n",
        "    Row(GEONAME=\"Northeast\", MARKET=\"All Mortgages (Home Purchase)\", YEAR=2023)\n",
        "]"
      ],
      "metadata": {
        "id": "x5en9Ke1QjpY"
      },
      "execution_count": 54,
      "outputs": []
    },
    {
      "cell_type": "code",
      "source": [
        "input_df = spark.createDataFrame(input_data)"
      ],
      "metadata": {
        "id": "rO1DKOwjSHvK"
      },
      "execution_count": 55,
      "outputs": []
    },
    {
      "cell_type": "code",
      "source": [
        "input_df"
      ],
      "metadata": {
        "colab": {
          "base_uri": "https://localhost:8080/"
        },
        "id": "JcpZy_4QTqd2",
        "outputId": "27292b6b-905b-4934-9252-a32c57152da0"
      },
      "execution_count": 56,
      "outputs": [
        {
          "output_type": "execute_result",
          "data": {
            "text/plain": [
              "DataFrame[GEONAME: string, MARKET: string, YEAR: bigint]"
            ]
          },
          "metadata": {},
          "execution_count": 56
        }
      ]
    },
    {
      "cell_type": "code",
      "source": [
        "# Transformar GEONAME y MARKET al mismo formato que el modelo entrenado\n",
        "input_df = indexer_geoname.fit(original_data).transform(input_df)\n",
        "input_df = indexer_market.fit(original_data).transform(input_df)\n"
      ],
      "metadata": {
        "id": "_0_DxM1cSMt7"
      },
      "execution_count": 57,
      "outputs": []
    },
    {
      "cell_type": "code",
      "source": [
        "# Crear el vector de características\n",
        "input_df = assembler.transform(input_df)\n",
        "\n",
        "# Seleccionar solo las columnas necesarias\n",
        "input_df = input_df.select(\"features\")\n",
        "\n",
        "# Realizar la predicción\n",
        "predictions = lr_model.transform(input_df)\n",
        "\n"
      ],
      "metadata": {
        "id": "fR3FNrK2SPSk"
      },
      "execution_count": 58,
      "outputs": []
    },
    {
      "cell_type": "code",
      "source": [
        "# Mostrar la predicción\n",
        "predictions.select(\"features\", \"prediction\").show()"
      ],
      "metadata": {
        "colab": {
          "base_uri": "https://localhost:8080/"
        },
        "id": "niQWwbXvSU5u",
        "outputId": "0b21c64b-171f-45b9-9c51-6d6412af873d"
      },
      "execution_count": 59,
      "outputs": [
        {
          "output_type": "stream",
          "name": "stdout",
          "text": [
            "+----------------+------------------+\n",
            "|        features|        prediction|\n",
            "+----------------+------------------+\n",
            "|[6.0,0.0,2023.0]|40.350187068881496|\n",
            "+----------------+------------------+\n",
            "\n"
          ]
        }
      ]
    }
  ]
}